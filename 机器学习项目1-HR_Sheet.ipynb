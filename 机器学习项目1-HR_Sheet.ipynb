{
 "cells": [
  {
   "cell_type": "code",
   "execution_count": 1,
   "metadata": {},
   "outputs": [],
   "source": [
    "import numpy as np\n",
    "import pandas as pd\n",
    "from sklearn.preprocessing import MinMaxScaler,StandardScaler,LabelEncoder,OneHotEncoder,Normalizer\n",
    "from sklearn.discriminant_analysis import LinearDiscriminantAnalysis as LDA\n",
    "from sklearn.decomposition import PCA\n",
    "from matplotlib import pyplot as plt\n",
    "import seaborn as sns\n",
    "%matplotlib inline"
   ]
  },
  {
   "cell_type": "code",
   "execution_count": 2,
   "metadata": {},
   "outputs": [],
   "source": [
    "data=pd.read_csv('HR_comma_sep.csv')"
   ]
  },
  {
   "cell_type": "code",
   "execution_count": 3,
   "metadata": {},
   "outputs": [
    {
     "data": {
      "text/plain": [
       "Index(['satisfaction_level', 'last_evaluation', 'number_project',\n",
       "       'average_montly_hours', 'time_spend_company', 'Work_accident', 'left',\n",
       "       'promotion_last_5years', 'sales', 'salary'],\n",
       "      dtype='object')"
      ]
     },
     "execution_count": 3,
     "metadata": {},
     "output_type": "execute_result"
    }
   ],
   "source": [
    "data.columns"
   ]
  },
  {
   "cell_type": "code",
   "execution_count": 4,
   "metadata": {},
   "outputs": [],
   "source": [
    "#清洗数据\n",
    "data=data.dropna(subset=['satisfaction_level','last_evaluation'])\n",
    "data=data[data['satisfaction_level']<=1][data['salary']!='nme']"
   ]
  },
  {
   "cell_type": "code",
   "execution_count": 5,
   "metadata": {},
   "outputs": [
    {
     "data": {
      "text/html": [
       "<div>\n",
       "<style scoped>\n",
       "    .dataframe tbody tr th:only-of-type {\n",
       "        vertical-align: middle;\n",
       "    }\n",
       "\n",
       "    .dataframe tbody tr th {\n",
       "        vertical-align: top;\n",
       "    }\n",
       "\n",
       "    .dataframe thead th {\n",
       "        text-align: right;\n",
       "    }\n",
       "</style>\n",
       "<table border=\"1\" class=\"dataframe\">\n",
       "  <thead>\n",
       "    <tr style=\"text-align: right;\">\n",
       "      <th></th>\n",
       "      <th>satisfaction_level</th>\n",
       "      <th>last_evaluation</th>\n",
       "      <th>number_project</th>\n",
       "      <th>average_montly_hours</th>\n",
       "      <th>time_spend_company</th>\n",
       "      <th>Work_accident</th>\n",
       "      <th>left</th>\n",
       "      <th>promotion_last_5years</th>\n",
       "      <th>sales</th>\n",
       "      <th>salary</th>\n",
       "    </tr>\n",
       "  </thead>\n",
       "  <tbody>\n",
       "  </tbody>\n",
       "</table>\n",
       "</div>"
      ],
      "text/plain": [
       "Empty DataFrame\n",
       "Columns: [satisfaction_level, last_evaluation, number_project, average_montly_hours, time_spend_company, Work_accident, left, promotion_last_5years, sales, salary]\n",
       "Index: []"
      ]
     },
     "execution_count": 5,
     "metadata": {},
     "output_type": "execute_result"
    }
   ],
   "source": [
    "data[~data['salary'].isin(['low','medium','high'])]"
   ]
  },
  {
   "cell_type": "code",
   "execution_count": 6,
   "metadata": {},
   "outputs": [
    {
     "data": {
      "text/plain": [
       "<matplotlib.axes._subplots.AxesSubplot at 0x7f966e6c6d10>"
      ]
     },
     "execution_count": 6,
     "metadata": {},
     "output_type": "execute_result"
    },
    {
     "data": {
      "image/png": "[encoded data removed]",
      "text/plain": [
       "<Figure size 432x288 with 2 Axes>"
      ]
     },
     "metadata": {
      "needs_background": "light"
     },
     "output_type": "display_data"
    }
   ],
   "source": [
    "sns.heatmap(data.corr(method='pearson'),cmap='coolwarm')"
   ]
  },
  {
   "cell_type": "code",
   "execution_count": 7,
   "metadata": {},
   "outputs": [],
   "source": [
    "#得到标注\n",
    "label=data['left']\n",
    "data=data.drop('left',axis=1) "
   ]
  },
  {
   "cell_type": "code",
   "execution_count": 8,
   "metadata": {},
   "outputs": [
    {
     "data": {
      "text/plain": [
       "0        1\n",
       "1        1\n",
       "2        1\n",
       "3        1\n",
       "4        1\n",
       "        ..\n",
       "14994    1\n",
       "14995    1\n",
       "14996    1\n",
       "14997    1\n",
       "14998    1\n",
       "Name: left, Length: 14999, dtype: int64"
      ]
     },
     "execution_count": 8,
     "metadata": {},
     "output_type": "execute_result"
    }
   ],
   "source": [
    "label"
   ]
  },
  {
   "cell_type": "code",
   "execution_count": 9,
   "metadata": {},
   "outputs": [],
   "source": [
    "def map_salary(s):\n",
    "    high_low_dict={'low':0,'medium':1,'high':2}\n",
    "    return high_low_dict.get(s,0)\n",
    "\n",
    "\n",
    "def preprocessing(p1,p2,p3,p5,p6,p7,p8,p9,lower_d=False,ld_n=1,data=data,label=label):\n",
    "    label=np.array(label).reshape(-1,1)\n",
    "    scaler_lst=[p1,p2,p3,p5,p6,p7]\n",
    "    scaler_lst1=[p8,p9]\n",
    "    column_list=['satisfaction_level','last_evaluation','number_project','time_spend_company','Work_accident','promotion_last_5years']\n",
    "    column_list1=['sales','salary']\n",
    "    for i in range(len(scaler_lst)):\n",
    "        if not scaler_lst[i]:\n",
    "            data[column_list[i]]=MinMaxScaler().fit_transform(np.array(data[column_list[i]]).reshape(-1,1))\n",
    "        else:\n",
    "            data[column_list[i]]=StandardScaler().fit_transform(np.array(data[column_list[i]]).reshape(-1,1))\n",
    "            \n",
    "    for j in range(len(scaler_lst1)):\n",
    "        if not scaler_lst1[j]:\n",
    "            if column_list1[j]=='salary':\n",
    "                data['salary']=data['salary'].map(lambda x:map_salary(x))\n",
    "            else:\n",
    "                data[column_list1[j]]=LabelEncoder().fit_transform(data[column_list1[j]])\n",
    "        else:\n",
    "            #data[column_list1[j]]=OneHotEncoder().fit_transform(np.array(column_list1[j]).reshape(-1,1))\n",
    "            data=pd.get_dummies(data,columns=[column_list1[j]])\n",
    "    \n",
    "    if lower_d:\n",
    "        return PCA(n_components=ld_n).fit_transform(data),label\n",
    "    \n",
    "    return data,label"
   ]
  },
  {
   "cell_type": "code",
   "execution_count": 10,
   "metadata": {},
   "outputs": [
    {
     "name": "stdout",
     "output_type": "stream",
     "text": [
      "(14999, 3) (14999, 1)\n"
     ]
    }
   ],
   "source": [
    "data1=data.copy()\n",
    "data3=preprocessing(False,False,False,False,False,False,True,True,lower_d=True,ld_n=3,data=data1,label=label)\n",
    "data4=preprocessing(False,False,False,False,False,False,False,False,lower_d=True,ld_n=3,data=data1,label=label)\n",
    "print(data3[0].shape,data3[1].shape)"
   ]
  },
  {
   "cell_type": "code",
   "execution_count": 11,
   "metadata": {},
   "outputs": [],
   "source": [
    "#训练集、验证集、测试集拆分\n",
    "from sklearn.model_selection import train_test_split\n",
    "\n",
    "def data_modeling(features,label):\n",
    "    f_v=features\n",
    "    l_v=label\n",
    "    X_test,X_validation,Y_test,Y_validation=train_test_split(f_v,l_v,test_size=0.2)\n",
    "    X_train,X_test,Y_train,Y_test=train_test_split(X_test,Y_test,test_size=0.25)\n",
    "    # print(len(X_train),len(X_validation),len(X_test))\n",
    "    return X_train,Y_train,X_test,Y_test,X_validation,Y_validation\n",
    "\n",
    "\n",
    "#data_modeling(data3[0],data3[1])"
   ]
  },
  {
   "cell_type": "code",
   "execution_count": 23,
   "metadata": {},
   "outputs": [
    {
     "name": "stderr",
     "output_type": "stream",
     "text": [
      "/Users/hurrywish/anaconda3/lib/python3.7/site-packages/ipykernel_launcher.py:49: DataConversionWarning: A column-vector y was passed when a 1d array was expected. Please change the shape of y to (n_samples, ), for example using ravel().\n"
     ]
    },
    {
     "name": "stdout",
     "output_type": "stream",
     "text": [
      "AUC 0.8785243834849699\n",
      "ROC 0.8785243834849699\n",
      "AUC 0.7572862691315833\n",
      "ROC 0.7572862691315833\n",
      "AUC 0.7440610925618265\n",
      "ROC 0.7440610925618265\n"
     ]
    },
    {
     "data": {
      "image/png": "[encoded data removed]",
      "text/plain": [
       "<Figure size 864x720 with 3 Axes>"
      ]
     },
     "metadata": {
      "needs_background": "light"
     },
     "output_type": "display_data"
    }
   ],
   "source": [
    "from sklearn.neighbors import NearestNeighbors,KNeighborsClassifier\n",
    "from sklearn.metrics import accuracy_score,recall_score,f1_score\n",
    "from sklearn.naive_bayes import GaussianNB,BernoulliNB\n",
    "from sklearn.tree import DecisionTreeClassifier,export_graphviz\n",
    "from sklearn.svm import SVC\n",
    "from sklearn.linear_model import LogisticRegression\n",
    "from sklearn.ensemble import RandomForestClassifier,AdaBoostClassifier\n",
    "from keras.models import Sequential\n",
    "from keras.layers.core import Dense,Activation\n",
    "from keras.optimizers import SGD\n",
    "from sklearn.externals.six import StringIO\n",
    "import pydotplus\n",
    "\n",
    "X_train,Y_train,X_test,Y_test,X_validation,Y_validation=data_modeling(data4[0],data4[1])\n",
    "# knn_clf=KNeighborsClassifier(n_neighbors=3,n_jobs=10)\n",
    "# knn_clf.fit(X_train,Y_train)\n",
    "# Y_pred=knn_clf.predict(X_validation)\n",
    "# print('ACC_val:',accuracy_score(Y_validation,Y_pred))\n",
    "# print('REC_val:',recall_score(Y_validation,Y_pred))\n",
    "# print('F-score_val:',f1_score(Y_validation,Y_pred))\n",
    "# print('ACC_test:',accuracy_score(Y_test,Y_pred))\n",
    "# print('REC_test:',recall_score(Y_test,Y_pred))\n",
    "# print('F-score_test:',f1_score(Y_test,Y_pred))\n",
    "\n",
    "# mdl=Sequential()\n",
    "# mdl.add(Dense(50,input_dim=len(data4[0])))\n",
    "# mdl.add(Activationtivation('sigmoid'))\n",
    "# mdl.add(Dense(2))\n",
    "# mdl.add(Activation('softmax'))\n",
    "# sgd=SGD(lr=0.01)\n",
    "# mdl.compile(loss='mean_squared_error',optimizer='adam')\n",
    "# mdl.fit(X_train,np.array([[0,1] if i==1 else [1,0] for i in Y_train]),nb_epoch=1000,batch_size=2000)\n",
    "\n",
    "\n",
    "models=list()\n",
    "\n",
    "models.append(('KNN',KNeighborsClassifier(n_neighbors=3,n_jobs=10)))\n",
    "# models.append(('GaussianNB',GaussianNB()))\n",
    "# models.append(('BernoulliNB',BernoulliNB()))\n",
    "# models.append(('DecisionTreeClassifier',DecisionTreeClassifier()))\n",
    "# models.append(('SVM classifier',SVC(C=10000)))\n",
    "# models.append(('RandomForestClassifier',RandomForestClassifier(max_features=None)))\n",
    "# models.append(('AdaBoostClassifier',AdaBoostClassifier(base_estimator=SVC(),algorithm='SAMME')))\n",
    "#models.append(('LogisticRegression',LogisticRegression(solver='newton-cg')))\n",
    "\n",
    "from sklearn.metrics import roc_auc_score,roc_curve,auc\n",
    "figure=plt.figure(figsize=(12,10))\n",
    "for clf_name,clf in models:\n",
    "    clf.fit(X_train,Y_train)\n",
    "    xt_lst=[(X_train,Y_train),(X_validation,Y_validation),(X_test,Y_test)]\n",
    "    for i in range(len(xt_lst)):\n",
    "        X_part=xt_lst[i][0]\n",
    "        Y_part=xt_lst[i][1]\n",
    "        Y_pred=clf.predict(X_part)\n",
    "        \n",
    "        figure.add_subplot(1,3,i+1)\n",
    "        fpr,tpr,threshold=roc_curve(Y_part,Y_pred)\n",
    "        plt.plot(fpr,tpr)\n",
    "        print('AUC',auc(fpr,tpr))\n",
    "        print('ROC',roc_auc_score(Y_part,Y_pred))\n",
    "#         print(clf_name,'ACC',accuracy_score(Y_part,Y_pred))\n",
    "#         print(clf_name,'REC',recall_score(Y_part,Y_pred))\n",
    "#         print(clf_name,'f1_score',f1_score(Y_part,Y_pred))\n",
    "        \n",
    "#         dot_data=export_graphviz(clf,out_file=None,class_names=['NL','L'],filled=True,rounded=True,special_characters=True)\n",
    "#         graph=pydotplus.graph_from_dot_data(dot_data)\n",
    "#         graph.write_pdf('decesion_tree.pdf')"
   ]
  },
  {
   "cell_type": "code",
   "execution_count": 18,
   "metadata": {},
   "outputs": [
    {
     "ename": "IndexError",
     "evalue": "too many indices for array",
     "output_type": "error",
     "traceback": [
      "\u001b[0;31m---------------------------------------------------------------------------\u001b[0m",
      "\u001b[0;31mIndexError\u001b[0m                                Traceback (most recent call last)",
      "\u001b[0;32m<ipython-input-18-7a7e943fed21>\u001b[0m in \u001b[0;36m<module>\u001b[0;34m\u001b[0m\n\u001b[0;32m----> 1\u001b[0;31m \u001b[0mprint\u001b[0m\u001b[0;34m(\u001b[0m\u001b[0mY_pred\u001b[0m\u001b[0;34m[\u001b[0m\u001b[0;34m:\u001b[0m\u001b[0;34m,\u001b[0m\u001b[0;36m1\u001b[0m\u001b[0;34m]\u001b[0m\u001b[0;34m)\u001b[0m\u001b[0;34m\u001b[0m\u001b[0;34m\u001b[0m\u001b[0m\n\u001b[0m",
      "\u001b[0;31mIndexError\u001b[0m: too many indices for array"
     ]
    }
   ],
   "source": []
  },
  {
   "cell_type": "code",
   "execution_count": null,
   "metadata": {},
   "outputs": [],
   "source": [
    "from sklearn.externals import joblib\n",
    "joblib.dump(knn_clf,'knn_clf')"
   ]
  },
  {
   "cell_type": "code",
   "execution_count": null,
   "metadata": {},
   "outputs": [],
   "source": [
    "result=OneHotEncoder().fit_transform(np.array(data.salary).reshape(-1,1))\n",
    "result"
   ]
  },
  {
   "cell_type": "code",
   "execution_count": null,
   "metadata": {},
   "outputs": [],
   "source": [
    "features=data.copy()\n",
    "features.columns"
   ]
  },
  {
   "cell_type": "code",
   "execution_count": null,
   "metadata": {},
   "outputs": [],
   "source": [
    "features[['number_project','average_montly_hours']].values\n",
    "features['last_evaluation'].values"
   ]
  },
  {
   "cell_type": "code",
   "execution_count": null,
   "metadata": {},
   "outputs": [],
   "source": [
    "from sklearn.linear_model import LinearRegression,Ridge,Lasso\n",
    "from sklearn.metrics import mean_squared_error,r2_score\n",
    "def regression(features,label):\n",
    "    #regr=LinearRegression()\n",
    "    #regr=Ridge(alpha=0.01)\n",
    "    #regr=Lasso(alpha=10)\n",
    "    regr.fit(features,label)\n",
    "    Y_pred=regr.predict(features)\n",
    "    print('coef:',regr.coef_)\n",
    "    print('intercept:',regr.intercept_)\n",
    "    print('r2:',r2_score(label,Y_pred))\n",
    "   \n",
    "X=features[['number_project','average_montly_hours']].values\n",
    "Y=features['last_evaluation'].values\n",
    "regression(X,Y)"
   ]
  },
  {
   "cell_type": "code",
   "execution_count": null,
   "metadata": {},
   "outputs": [],
   "source": []
  },
  {
   "cell_type": "code",
   "execution_count": null,
   "metadata": {},
   "outputs": [],
   "source": []
  }
 ],
 "metadata": {
  "kernelspec": {
   "display_name": "Python 3",
   "language": "python",
   "name": "python3"
  },
  "language_info": {
   "codemirror_mode": {
    "name": "ipython",
    "version": 3
   },
   "file_extension": ".py",
   "mimetype": "text/x-python",
   "name": "python",
   "nbconvert_exporter": "python",
   "pygments_lexer": "ipython3",
   "version": "3.7.6"
  }
 },
 "nbformat": 4,
 "nbformat_minor": 4
}
