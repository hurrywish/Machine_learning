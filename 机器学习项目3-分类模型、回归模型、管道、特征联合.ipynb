{
 "cells": [
  {
   "cell_type": "markdown",
   "metadata": {},
   "source": [
    "# 分类模型"
   ]
  },
  {
   "cell_type": "code",
   "execution_count": 22,
   "metadata": {},
   "outputs": [],
   "source": [
    "import numpy as np\n",
    "import pandas as pd\n",
    "from matplotlib import pyplot as plt\n",
    "%matplotlib inline\n",
    "from sklearn.datasets import load_digits,load_boston"
   ]
  },
  {
   "cell_type": "code",
   "execution_count": 14,
   "metadata": {},
   "outputs": [
    {
     "data": {
      "text/plain": [
       "<matplotlib.image.AxesImage at 0x7fceac97db10>"
      ]
     },
     "execution_count": 14,
     "metadata": {},
     "output_type": "execute_result"
    },
    {
     "data": {
      "image/png": "[encoded data removed]",
      "text/plain": [
       "<Figure size 432x288 with 1 Axes>"
      ]
     },
     "metadata": {
      "needs_background": "light"
     },
     "output_type": "display_data"
    }
   ],
   "source": [
    "data=load_digits()\n",
    "plt.imshow(data.images[0],cmap='Reds',interpolation='nearest')"
   ]
  },
  {
   "cell_type": "code",
   "execution_count": 16,
   "metadata": {},
   "outputs": [],
   "source": [
    "sample=data.data\n",
    "target=data.target"
   ]
  },
  {
   "cell_type": "code",
   "execution_count": 21,
   "metadata": {},
   "outputs": [
    {
     "data": {
      "text/plain": [
       "0.989983305509182"
      ]
     },
     "execution_count": 21,
     "metadata": {},
     "output_type": "execute_result"
    }
   ],
   "source": [
    "from sklearn.model_selection import train_test_split\n",
    "from sklearn.tree import DecisionTreeClassifier\n",
    "from sklearn.ensemble import RandomForestClassifier\n",
    "from sklearn.svm import SVC\n",
    "\n",
    "X_train,X_test,Y_train,Y_test=train_test_split(sample,target,test_size=1/3)\n",
    "\n",
    "clf1=DecisionTreeClassifier()\n",
    "clf1.fit(X_train,Y_train)\n",
    "clf1.predict(X_test)\n",
    "\n",
    "clf1.score(X_test,Y_test)\n",
    "\n",
    "clf2=RandomForestClassifier()\n",
    "clf2.fit(X_train,Y_train)\n",
    "clf2.predict(X_test)\n",
    "clf2.score(X_test,Y_test)\n",
    "\n",
    "\n",
    "clf3=SVC()\n",
    "clf3.fit(X_train,Y_train)\n",
    "clf3.predict(X_test)\n",
    "clf3.score(X_test,Y_test)"
   ]
  },
  {
   "cell_type": "markdown",
   "metadata": {},
   "source": [
    "# 回归模型"
   ]
  },
  {
   "cell_type": "code",
   "execution_count": 23,
   "metadata": {},
   "outputs": [],
   "source": [
    "boston=load_boston()"
   ]
  },
  {
   "cell_type": "markdown",
   "metadata": {},
   "source": [
    "# Pipeline(estimator 串联)"
   ]
  },
  {
   "cell_type": "code",
   "execution_count": 25,
   "metadata": {},
   "outputs": [],
   "source": [
    "from sklearn import datasets\n",
    "from sklearn.model_selection import train_test_split\n",
    "from sklearn.preprocessing import StandardScaler,MinMaxScaler\n",
    "from sklearn.decomposition import PCA\n",
    "from sklearn.linear_model import ElasticNetCV,LassoCV,RidgeCV\n",
    "from sklearn.pipeline import Pipeline"
   ]
  },
  {
   "cell_type": "code",
   "execution_count": 34,
   "metadata": {},
   "outputs": [
    {
     "name": "stdout",
     "output_type": "stream",
     "text": [
      "[27.58466991 26.80314003 18.64361545 23.97284585 19.55623809 18.16741981\n",
      " 26.6712391  17.64453401 24.1859656  26.40420661 24.92875992 29.27581457\n",
      " 21.78758793 24.3932496  21.85983396 18.5696831  16.9772845  35.29823577\n",
      " 28.06254163 13.91371147 21.15204922 19.55392322 24.46702233 25.9698006\n",
      " 28.96550539 10.40309712 13.30491159 22.14315104 35.30277632 14.63511308\n",
      " 25.25660009 16.01193498 36.38847898 19.08193419 26.6491292  21.98086091\n",
      " 18.19475897 29.0278856   9.14337642 19.51602079 28.86336438 24.54103083\n",
      " 27.78729735 14.28056299 17.87006972 15.27943324 38.1312142  18.14254733\n",
      " 24.42433674 17.79524366 24.30704557 25.07025721 26.75730011 25.00431986\n",
      "  5.36970024 23.93342419 12.01420987 26.28611198 17.43891404 34.41510181\n",
      " 19.42201088 27.21703795 16.1222338  16.03685391 13.8167602  30.59736556\n",
      " 35.2573349  28.09629871 25.49582399 24.41595775 25.85882558  8.49760283\n",
      " 16.18250487 20.431517   18.72907716 21.93228892 31.45506906 28.27013351\n",
      " 28.33858583 28.56990119 16.61907718 23.54746328 32.96955246 14.3290103\n",
      " 23.97135407 30.15198461 17.3900507  27.21894038 20.12568548 15.50760038\n",
      " 24.21646628 40.01820078 14.04603949 25.23870309 15.88472811 24.02238082\n",
      " 21.90577182 24.7957434  34.37886144 20.45944325 15.7291947  18.584077\n",
      " 27.96091312 24.17140297  9.52940658 21.9264311  13.71588714 31.67517248\n",
      " 23.76119538 24.01215524 38.13020399 27.42295568 14.43952579 29.73352931\n",
      " 34.12146178 33.92441203 22.52674513 18.11909091 30.55091745 38.14322463\n",
      " 26.01305605 15.61811767 30.35452231 20.17556928 26.97153506 21.6941229\n",
      " 27.5971645  20.5946091  22.16917979 27.58026395 22.28457886 24.20115228\n",
      " 25.96534593 11.29569075 24.94967832 29.82564654 20.08906137 13.66087902\n",
      " 30.82904911 18.55339155 19.51147175 14.44246062 15.5498134  29.32455789\n",
      " 27.81813375 23.11829575 25.10186938 15.44924555 27.62982295 15.96408438\n",
      " 33.62814614 13.93233117 21.00007726 17.88194866 18.6424564  27.96864878\n",
      " 15.73167566 25.68901191 24.4809349  30.34500653 33.75120616 35.81043612\n",
      " 26.90545412 18.23148252 17.56617617 20.69801778 25.61335356 15.89890844\n",
      " 13.66617912]\n",
      "0.7149153509670068\n",
      "{'memory': None, 'steps': [('scaler', MinMaxScaler(copy=True, feature_range=(0, 1))), ('pca', PCA(copy=True, iterated_power='auto', n_components=6, random_state=None,\n",
      "    svd_solver='auto', tol=0.0, whiten=False)), ('net', ElasticNetCV(alphas=None, copy_X=True, cv=None, eps=0.001, fit_intercept=True,\n",
      "             l1_ratio=0.5, max_iter=1000, n_alphas=100, n_jobs=None,\n",
      "             normalize=False, positive=False, precompute='auto',\n",
      "             random_state=None, selection='cyclic', tol=0.0001, verbose=0))], 'verbose': False, 'scaler': MinMaxScaler(copy=True, feature_range=(0, 1)), 'pca': PCA(copy=True, iterated_power='auto', n_components=6, random_state=None,\n",
      "    svd_solver='auto', tol=0.0, whiten=False), 'net': ElasticNetCV(alphas=None, copy_X=True, cv=None, eps=0.001, fit_intercept=True,\n",
      "             l1_ratio=0.5, max_iter=1000, n_alphas=100, n_jobs=None,\n",
      "             normalize=False, positive=False, precompute='auto',\n",
      "             random_state=None, selection='cyclic', tol=0.0001, verbose=0), 'scaler__copy': True, 'scaler__feature_range': (0, 1), 'pca__copy': True, 'pca__iterated_power': 'auto', 'pca__n_components': 6, 'pca__random_state': None, 'pca__svd_solver': 'auto', 'pca__tol': 0.0, 'pca__whiten': False, 'net__alphas': None, 'net__copy_X': True, 'net__cv': None, 'net__eps': 0.001, 'net__fit_intercept': True, 'net__l1_ratio': 0.5, 'net__max_iter': 1000, 'net__n_alphas': 100, 'net__n_jobs': None, 'net__normalize': False, 'net__positive': False, 'net__precompute': 'auto', 'net__random_state': None, 'net__selection': 'cyclic', 'net__tol': 0.0001, 'net__verbose': 0}\n"
     ]
    }
   ],
   "source": [
    "boston=datasets.load_boston()\n",
    "X_train,X_test,Y_train,Y_test=train_test_split(boston.data,boston.target,test_size=1/3,random_state=1)\n",
    "\n",
    "pipe=Pipeline([\n",
    "    ('scaler',MinMaxScaler()),\n",
    "    ('pca',PCA()),\n",
    "    ('net',ElasticNetCV())\n",
    "])\n",
    "\n",
    "pipe.set_params(scaler__feature_range=(0,1),pca__n_components=6)\n",
    "\n",
    "pipe.fit(X_train,Y_train)\n",
    "print(pipe.predict(X_test))\n",
    "print(pipe.score(X_test,Y_test))\n",
    "print(pipe.get_params())"
   ]
  },
  {
   "cell_type": "markdown",
   "metadata": {},
   "source": [
    "# 特征联合(estimator 并联)"
   ]
  },
  {
   "cell_type": "code",
   "execution_count": 35,
   "metadata": {},
   "outputs": [],
   "source": [
    "from sklearn import datasets\n",
    "from sklearn.pipeline import FeatureUnion\n",
    "from sklearn.decomposition import PCA,KernelPCA"
   ]
  },
  {
   "cell_type": "code",
   "execution_count": 36,
   "metadata": {},
   "outputs": [
    {
     "data": {
      "text/plain": [
       "(506, 8)"
      ]
     },
     "execution_count": 36,
     "metadata": {},
     "output_type": "execute_result"
    }
   ],
   "source": [
    "boston=datasets.load_boston()\n",
    "\n",
    "united=FeatureUnion([\n",
    "    ('Linear_pca',PCA(n_components=3)),\n",
    "    ('KernelPCA',KernelPCA(n_components=5))\n",
    "])\n",
    "united.fit_transform(boston.data).shape"
   ]
  },
  {
   "cell_type": "code",
   "execution_count": null,
   "metadata": {},
   "outputs": [],
   "source": []
  }
 ],
 "metadata": {
  "kernelspec": {
   "display_name": "Python 3",
   "language": "python",
   "name": "python3"
  },
  "language_info": {
   "codemirror_mode": {
    "name": "ipython",
    "version": 3
   },
   "file_extension": ".py",
   "mimetype": "text/x-python",
   "name": "python",
   "nbconvert_exporter": "python",
   "pygments_lexer": "ipython3",
   "version": "3.7.6"
  }
 },
 "nbformat": 4,
 "nbformat_minor": 4
}
